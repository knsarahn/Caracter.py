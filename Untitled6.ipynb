{
  "nbformat": 4,
  "nbformat_minor": 0,
  "metadata": {
    "colab": {
      "provenance": [],
      "authorship_tag": "ABX9TyMFEzSekXORyFdcYu7N5kRN",
      "include_colab_link": true
    },
    "kernelspec": {
      "name": "python3",
      "display_name": "Python 3"
    },
    "language_info": {
      "name": "python"
    }
  },
  "cells": [
    {
      "cell_type": "markdown",
      "metadata": {
        "id": "view-in-github",
        "colab_type": "text"
      },
      "source": [
        "<a href=\"https://colab.research.google.com/github/knsarahn/Caracter.py/blob/codespace-expert-space-telegram-pxx76jg944gh6jjj/Untitled6.ipynb\" target=\"_parent\"><img src=\"https://colab.research.google.com/assets/colab-badge.svg\" alt=\"Open In Colab\"/></a>"
      ]
    },
    {
      "cell_type": "code",
      "execution_count": 3,
      "metadata": {
        "colab": {
          "base_uri": "https://localhost:8080/"
        },
        "id": "-W6UbfwHezax",
        "outputId": "fa742b84-75c4-406b-c599-eb44de9bf4f0"
      },
      "outputs": [
        {
          "output_type": "stream",
          "name": "stdout",
          "text": [
            "Digite a primeira string: Hi, Barbie\n",
            "Digite a segunda string: Hello, Barbie\n",
            "\n",
            "Aqui diz: Hi, Barbie\n",
            "Essa mede: 10\n",
            "\n",
            "Aqui diz: Hello, Barbie\n",
            "Essa mede: 13\n",
            "\n",
            "As duas strings são diferentes.\n",
            "As duas strings não têm comprimentos iguais.\n"
          ]
        }
      ],
      "source": [
        "string1 = input(\"Digite a primeira string: \")\n",
        "string2 = input(\"Digite a segunda string: \")\n",
        "print(\"\\nAqui diz:\", string1)\n",
        "print(\"Essa mede:\", len(string1))\n",
        "print(\"\\nAqui diz:\", string2)\n",
        "print(\"Essa mede:\", len(string2))\n",
        "if string1 == string2:\n",
        "    print(\"\\nAs duas strings dizem a mesma coisa.\")\n",
        "else:\n",
        "    print(\"\\nAs duas strings são diferentes.\")\n",
        "\n",
        "if len(string1) == len(string2):\n",
        "    print(\"As duas strings medem o mesmo tamanho.\")\n",
        "else:\n",
        "    print(\"As duas strings não têm comprimentos iguais.\")"
      ]
    },
    {
      "cell_type": "code",
      "source": [
        "nome = input(\"Digite seu nome: \")\n",
        "for letra in nome:\n",
        "    print(letra)\n",
        ""
      ],
      "metadata": {
        "colab": {
          "base_uri": "https://localhost:8080/"
        },
        "id": "I_NCdZp-gZn_",
        "outputId": "7d388cd6-ea7e-4c7b-bc77-4748c90deadb"
      },
      "execution_count": 4,
      "outputs": [
        {
          "output_type": "stream",
          "name": "stdout",
          "text": [
            "Digite seu nome: Sarah\n",
            "S\n",
            "a\n",
            "r\n",
            "a\n",
            "h\n"
          ]
        }
      ]
    },
    {
      "cell_type": "code",
      "source": [
        "nome = input(\"Digite seu nome: \")\n",
        "nome_invertido = nome[::-1]\n",
        "print(\"Seu nome ao contrário ( c/ maiúscula e minúscula) é:\", nome_invertido)"
      ],
      "metadata": {
        "colab": {
          "base_uri": "https://localhost:8080/"
        },
        "id": "FNmU3eIbgeMR",
        "outputId": "0a82a58f-d52b-41d9-8052-5921c042a55d"
      },
      "execution_count": 6,
      "outputs": [
        {
          "output_type": "stream",
          "name": "stdout",
          "text": [
            "Digite seu nome: Sarah\n",
            "Seu nome ao contrário ( c/ maiúscula e minúscula) é: haraS\n"
          ]
        }
      ]
    },
    {
      "cell_type": "code",
      "source": [
        "meses = ['Janeiro', 'Fevereiro', 'Março', 'Abril', 'Maio', 'Junho','Julho', 'Agosto', 'Setembro', 'Outubro', 'Novembro', 'Dezembro']\n",
        "data_niver = input(\"Digite sua data de nascimento (dd/mm/aaaa): \")\n",
        "dia, mes, ano = data_niver.split('/')\n",
        "if 1 <= int(mes) <= 12:\n",
        "    mes_grande = meses[int(mes) - 1]\n",
        "    print(\"Sua data de nascimento é:\", f\"{dia} de {mes_grande} de {ano}\")\n",
        "else:\n",
        "    print(\"Formato de data inválido. Use o formato dd/mm/aaaa.\")"
      ],
      "metadata": {
        "colab": {
          "base_uri": "https://localhost:8080/"
        },
        "id": "jxxLxUrnhDvd",
        "outputId": "a922268b-bd4d-4e0a-e7ab-676322eb6dd7"
      },
      "execution_count": 9,
      "outputs": [
        {
          "output_type": "stream",
          "name": "stdout",
          "text": [
            "Digite sua data de nascimento (dd/mm/aaaa): 05/09/2006\n",
            "Sua data de nascimento é: 05 de Setembro de 2006\n"
          ]
        }
      ]
    },
    {
      "cell_type": "code",
      "source": [
        "frase = input(\"Digite uma frase: \")\n",
        "espacos_em_branco, vogais = frase.count(' '), sum(1 for letra in frase.lower() if letra in 'aeiou')\n",
        "print(\"Quantidade de espaços em branco na frase:\", espacos_em_branco)\n",
        "print(\"Quantidade de vezes que as vogais aparecem na frase:\", vogais)"
      ],
      "metadata": {
        "id": "fVA1Zby_h8cO"
      },
      "execution_count": null,
      "outputs": []
    }
  ]
}