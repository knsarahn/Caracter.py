{
  "nbformat": 4,
  "nbformat_minor": 0,
  "metadata": {
    "colab": {
      "provenance": [],
      "authorship_tag": "ABX9TyP5PLePVhJZycn3xi8Orj3C",
      "include_colab_link": true
    },
    "kernelspec": {
      "name": "python3",
      "display_name": "Python 3"
    },
    "language_info": {
      "name": "python"
    }
  },
  "cells": [
    {
      "cell_type": "markdown",
      "metadata": {
        "id": "view-in-github",
        "colab_type": "text"
      },
      "source": [
        "<a href=\"https://colab.research.google.com/github/knsarahn/Caracter.py/blob/codespace-expert-space-telegram-pxx76jg944gh6jjj/Untitled5.ipynb\" target=\"_parent\"><img src=\"https://colab.research.google.com/assets/colab-badge.svg\" alt=\"Open In Colab\"/></a>"
      ]
    },
    {
      "cell_type": "code",
      "execution_count": 1,
      "metadata": {
        "colab": {
          "base_uri": "https://localhost:8080/",
          "height": 245
        },
        "id": "kbUNnNTO5T4n",
        "outputId": "6c48d66f-8c3d-477c-d9e3-6ef13d4886b6"
      },
      "outputs": [
        {
          "output_type": "error",
          "ename": "NameError",
          "evalue": "ignored",
          "traceback": [
            "\u001b[0;31m---------------------------------------------------------------------------\u001b[0m",
            "\u001b[0;31mNameError\u001b[0m                                 Traceback (most recent call last)",
            "\u001b[0;32m<ipython-input-1-bb61cf391f8b>\u001b[0m in \u001b[0;36m<cell line: 1>\u001b[0;34m()\u001b[0m\n\u001b[0;32m----> 1\u001b[0;31m \u001b[0;32mif\u001b[0m \u001b[0;32mnot\u001b[0m \u001b[0malunos_notas\u001b[0m\u001b[0;34m:\u001b[0m\u001b[0;34m\u001b[0m\u001b[0;34m\u001b[0m\u001b[0m\n\u001b[0m\u001b[1;32m      2\u001b[0m   \u001b[0mprint\u001b[0m\u001b[0;34m(\u001b[0m\u001b[0;34m\"Nenhum aluno foi informado\"\u001b[0m\u001b[0;34m)\u001b[0m\u001b[0;34m\u001b[0m\u001b[0;34m\u001b[0m\u001b[0m\n\u001b[1;32m      3\u001b[0m \u001b[0;32melse\u001b[0m\u001b[0;34m:\u001b[0m\u001b[0;34m\u001b[0m\u001b[0;34m\u001b[0m\u001b[0m\n\u001b[1;32m      4\u001b[0m   \u001b[0maluno_maior_nota\u001b[0m \u001b[0;34m=\u001b[0m \u001b[0mmax\u001b[0m\u001b[0;34m(\u001b[0m\u001b[0malunos_notas\u001b[0m\u001b[0;34m,\u001b[0m \u001b[0mkey\u001b[0m\u001b[0;34m=\u001b[0m\u001b[0malunos_notas\u001b[0m\u001b[0;34m.\u001b[0m\u001b[0mget\u001b[0m\u001b[0;34m)\u001b[0m\u001b[0;34m\u001b[0m\u001b[0;34m\u001b[0m\u001b[0m\n\u001b[1;32m      5\u001b[0m   \u001b[0mmaior_nota\u001b[0m \u001b[0;34m=\u001b[0m \u001b[0malunos_notas\u001b[0m\u001b[0;34m[\u001b[0m\u001b[0maluno_maior_nota\u001b[0m\u001b[0;34m]\u001b[0m\u001b[0;34m\u001b[0m\u001b[0;34m\u001b[0m\u001b[0m\n",
            "\u001b[0;31mNameError\u001b[0m: name 'alunos_notas' is not defined"
          ]
        }
      ],
      "source": [
        "if not alunos_notas:\n",
        "  print(\"Nenhum aluno foi informado\")\n",
        "else:\n",
        "  aluno_maior_nota = max(alunos_notas, key=alunos_notas.get)\n",
        "  maior_nota = alunos_notas[aluno_maior_nota]\n",
        "print(f\"O aluno com maior nota é {aluno_maior_nota} com nota {maior_nota}\")"
      ]
    },
    {
      "cell_type": "code",
      "source": [
        "dic1 = {2, 3, 4, 5, 3,1}\n",
        "max(dic1)\n",
        "l = {\"ab\", \"abc\", \"bc\", \"c\"}\n",
        "print(max(l, key = len))\n",
        "print(min(l, key = len))"
      ],
      "metadata": {
        "colab": {
          "base_uri": "https://localhost:8080/"
        },
        "id": "MVIvFkE8Mv31",
        "outputId": "5af96e90-e2f3-4353-ec58-58f989fa0482"
      },
      "execution_count": 3,
      "outputs": [
        {
          "output_type": "stream",
          "name": "stdout",
          "text": [
            "abc\n",
            "c\n"
          ]
        }
      ]
    },
    {
      "cell_type": "code",
      "source": [
        "perguntas = [\"Telefonou para a vítima?\" , \" \"Esteve no local do crime?\" \"Devia para a vítima?\",]"
      ],
      "metadata": {
        "id": "pQgLcNQRM7M5"
      },
      "execution_count": null,
      "outputs": []
    },
    {
      "cell_type": "code",
      "source": [
        "def soma(n1, n2):\n",
        " soma = n1+n2\n",
        " return soma\n",
        "def subtraçao(n1,n2):\n",
        "  sub = n1-n2\n",
        "  return sub\n",
        "print('Bem vindo a calculadora')\n",
        "num1 = int(input('Digite o primeiro número:'))\n",
        "num2 = int(input('Digite o segundo número:'))\n",
        "op = int(input('Digite 1 para somar e 2 para subtrair:'))\n",
        "if op == 1:\n",
        "  print(f'O valor de soma {num1} e {num2} é {soma(num1,num2)}')\n",
        "elif op == 2:\n",
        "    print(f'O valor da subtração {num1} e {num2} é {subtracao(num1,num2)}')\n",
        "else:\n",
        "    print('Comando inválido')"
      ],
      "metadata": {
        "colab": {
          "base_uri": "https://localhost:8080/"
        },
        "id": "13odrCa0dXT7",
        "outputId": "ec8f017e-5d29-4895-b942-d7713f1ac6d9"
      },
      "execution_count": 6,
      "outputs": [
        {
          "output_type": "stream",
          "name": "stdout",
          "text": [
            "Bem vindo a calculadora\n",
            "Digite o primeiro número12\n",
            "Digite o segundo número56\n",
            "Digite 1 para somar e 2 para subtrair1\n",
            "O valor de soma 12 e 56 é 68\n"
          ]
        }
      ]
    },
    {
      "cell_type": "code",
      "source": [
        "def fatorial(numero):\n",
        " if type(numero) is not int:\n",
        "   return '\\nO número deve ser um inteiro!'\n",
        "   if numero <= 0:\n",
        "    return 1\n",
        "   else:\n",
        "    return numero * fatorial (numero-1)\n",
        "print(fatorial(8))"
      ],
      "metadata": {
        "colab": {
          "base_uri": "https://localhost:8080/"
        },
        "id": "Dc8H-SRsgh58",
        "outputId": "22c313ba-c950-4cae-8210-8007cf8263ab"
      },
      "execution_count": 11,
      "outputs": [
        {
          "output_type": "stream",
          "name": "stdout",
          "text": [
            "None\n"
          ]
        }
      ]
    },
    {
      "cell_type": "code",
      "source": [
        "def fatorial(numero):\n",
        "  if type(numero) is not int:\n",
        "    return '\\n O número deve ser um inteiro!'\n",
        "  if numero <= 0:\n",
        "    return 1\n",
        "  else:\n",
        "    return numero * fatorial (numero-1)\n",
        "print(fatorial(8))"
      ],
      "metadata": {
        "colab": {
          "base_uri": "https://localhost:8080/"
        },
        "id": "qBatuV0Wh4Ok",
        "outputId": "c4a5ab7b-2f83-4069-9d11-235c5943f97f"
      },
      "execution_count": 12,
      "outputs": [
        {
          "output_type": "stream",
          "name": "stdout",
          "text": [
            "40320\n"
          ]
        }
      ]
    },
    {
      "cell_type": "code",
      "source": [
        "def retangulo(largura, altura, caractere = \"*\"):\n",
        " linha = caractere * largura\n",
        " for i in range( altura):\n",
        "  print(Linha)\n",
        "retangulo(caractere + \"$\", altura = 5, largura = 15)"
      ],
      "metadata": {
        "colab": {
          "base_uri": "https://localhost:8080/",
          "height": 210
        },
        "id": "ZTiiha3ojXIm",
        "outputId": "159eb74c-c069-42d2-be35-eb40cf936234"
      },
      "execution_count": 19,
      "outputs": [
        {
          "output_type": "error",
          "ename": "NameError",
          "evalue": "ignored",
          "traceback": [
            "\u001b[0;31m---------------------------------------------------------------------------\u001b[0m",
            "\u001b[0;31mNameError\u001b[0m                                 Traceback (most recent call last)",
            "\u001b[0;32m<ipython-input-19-814c813e84d0>\u001b[0m in \u001b[0;36m<cell line: 5>\u001b[0;34m()\u001b[0m\n\u001b[1;32m      3\u001b[0m  \u001b[0;32mfor\u001b[0m \u001b[0mi\u001b[0m \u001b[0;32min\u001b[0m \u001b[0mrange\u001b[0m\u001b[0;34m(\u001b[0m \u001b[0maltura\u001b[0m\u001b[0;34m)\u001b[0m\u001b[0;34m:\u001b[0m\u001b[0;34m\u001b[0m\u001b[0;34m\u001b[0m\u001b[0m\n\u001b[1;32m      4\u001b[0m   \u001b[0mprint\u001b[0m\u001b[0;34m(\u001b[0m\u001b[0mLinha\u001b[0m\u001b[0;34m)\u001b[0m\u001b[0;34m\u001b[0m\u001b[0;34m\u001b[0m\u001b[0m\n\u001b[0;32m----> 5\u001b[0;31m \u001b[0mretangulo\u001b[0m\u001b[0;34m(\u001b[0m\u001b[0mcaractere\u001b[0m \u001b[0;34m+\u001b[0m \u001b[0;34m\"$\"\u001b[0m\u001b[0;34m,\u001b[0m \u001b[0maltura\u001b[0m \u001b[0;34m=\u001b[0m \u001b[0;36m5\u001b[0m\u001b[0;34m,\u001b[0m \u001b[0mlargura\u001b[0m \u001b[0;34m=\u001b[0m \u001b[0;36m15\u001b[0m\u001b[0;34m)\u001b[0m\u001b[0;34m\u001b[0m\u001b[0;34m\u001b[0m\u001b[0m\n\u001b[0m",
            "\u001b[0;31mNameError\u001b[0m: name 'caractere' is not defined"
          ]
        }
      ]
    },
    {
      "cell_type": "code",
      "source": [
        "def validar_faixa (numero, inicio, fim):\n",
        "  if numero.isdigit():\n",
        "     if int(numero) < int(inicio) or int(numero) > int(fim):\n",
        "       print(\"Valor inválidol Informe um número inteiro entre (inicio) e (fim).\")\n",
        "     else:\n",
        "        return True\n",
        "  else:\n",
        "      print(\"Número inválido! Informe um número inteiro entre (inicio) e (fim).\")\n",
        "while True:\n",
        "  resposta = input(\"Informe um número inteiro entre 1 e 10: \")\n",
        "  if validar_faixa(resposta, 1, 10):\n",
        "    break"
      ],
      "metadata": {
        "colab": {
          "base_uri": "https://localhost:8080/"
        },
        "id": "BGVypid2oNsn",
        "outputId": "1aba415e-b6fc-49d9-e459-f5b11a08a6f7"
      },
      "execution_count": 22,
      "outputs": [
        {
          "name": "stdout",
          "output_type": "stream",
          "text": [
            "Informe um número inteiro entre 1 e 10: 9\n"
          ]
        }
      ]
    },
    {
      "cell_type": "code",
      "source": [
        "def valida_elementos(texto, lista):\n",
        "  if texto.upper() in lista:\n",
        "    return True\n",
        "  else:\n",
        "      print(\"Opção inválida, veja as opções disponíveis:\")\n",
        "  for item in lista:\n",
        "        print(item)\n",
        "  while True:\n",
        "          lista = [\"CARRO\", \"NAVIO\", \"ÔNIBUS\", \"AVIÃO\"]\n",
        "          resposta = input(\"Informe um meio de transporte: \")\n",
        "  if valida_elementos (resposta, lista):\n",
        "    break"
      ],
      "metadata": {
        "colab": {
          "base_uri": "https://localhost:8080/",
          "height": 141
        },
        "id": "JAFuTmO4pwkR",
        "outputId": "8df79587-c132-4af8-8e6e-7b3a4c56b535"
      },
      "execution_count": 45,
      "outputs": [
        {
          "output_type": "error",
          "ename": "SyntaxError",
          "evalue": "ignored",
          "traceback": [
            "\u001b[0;36m  File \u001b[0;32m\"<ipython-input-45-837bc332ff17>\"\u001b[0;36m, line \u001b[0;32m12\u001b[0m\n\u001b[0;31m    break\u001b[0m\n\u001b[0m    ^\u001b[0m\n\u001b[0;31mSyntaxError\u001b[0m\u001b[0;31m:\u001b[0m 'break' outside loop\n"
          ]
        }
      ]
    },
    {
      "cell_type": "code",
      "source": [
        "soma = lambda lista: sum(lista)\n",
        "numeros = [1, 5,10,50]\n",
        "total = soma(numeros)\n",
        "print(total)\n",
        "numeros = [80,74,25]\n",
        "total = soma(numeros)\n",
        "print(total)"
      ],
      "metadata": {
        "colab": {
          "base_uri": "https://localhost:8080/"
        },
        "id": "PFPwF4qtrSpW",
        "outputId": "ee2f8204-e6c2-4922-e21b-5edccb7b7ff1"
      },
      "execution_count": 1,
      "outputs": [
        {
          "output_type": "stream",
          "name": "stdout",
          "text": [
            "66\n"
          ]
        }
      ]
    },
    {
      "cell_type": "code",
      "source": [
        "lista = [1,2,3,4,5,6]\n",
        "lista1 = list(map(lambda x:x**2, lista))\n",
        "print(\"Lista =\", lista,\"\\n\\nlista1 = \", lista1)"
      ],
      "metadata": {
        "colab": {
          "base_uri": "https://localhost:8080/"
        },
        "id": "ZrJ_3KkTC8Ia",
        "outputId": "45b0a59d-2906-425a-e4b7-713d4a04729f"
      },
      "execution_count": 2,
      "outputs": [
        {
          "output_type": "stream",
          "name": "stdout",
          "text": [
            "Lista = [1, 2, 3, 4, 5, 6] \n",
            "\n",
            "lista1 =  [1, 4, 9, 16, 25, 36]\n"
          ]
        }
      ]
    },
    {
      "cell_type": "code",
      "source": [
        "def calculaQuadrado(numero):\n",
        "  return f\"o cu de {numero} é: {numero **2}\"\n",
        "lista_numeros = [1,2,3,4,5,6]\n",
        "calculo = map(calculaQuadrado, lista_numeros)\n",
        "for n in calculo:\n",
        "  print(n)"
      ],
      "metadata": {
        "colab": {
          "base_uri": "https://localhost:8080/"
        },
        "id": "8YlIye18E4dd",
        "outputId": "8856a31a-edd3-40fa-82a0-a45c14141783"
      },
      "execution_count": 5,
      "outputs": [
        {
          "output_type": "stream",
          "name": "stdout",
          "text": [
            "o cu de 1 é: 1\n",
            "o cu de 2 é: 4\n",
            "o cu de 3 é: 9\n",
            "o cu de 4 é: 16\n",
            "o cu de 5 é: 25\n",
            "o cu de 6 é: 36\n"
          ]
        }
      ]
    },
    {
      "cell_type": "code",
      "source": [
        "import functools\n",
        "lista = [1,2,3,4,5,6]\n",
        "produto = functools. reduce(lambda x, y: x**y, lista)\n",
        "print(\"lista =\", lista,\" \\n\\nproduto = \", produto)"
      ],
      "metadata": {
        "colab": {
          "base_uri": "https://localhost:8080/"
        },
        "id": "WOCJgDzwHSKJ",
        "outputId": "e972290d-9545-49f8-91c1-64f77be4b825"
      },
      "execution_count": 8,
      "outputs": [
        {
          "output_type": "stream",
          "name": "stdout",
          "text": [
            "lista = [1, 2, 3, 4, 5, 6]  \n",
            "\n",
            "produto =  1\n"
          ]
        }
      ]
    },
    {
      "cell_type": "code",
      "source": [
        "lista = [1,2,3,4,5,6]\n",
        "lista1 = list(filter(lambda x: x%2 != 0, lista))\n",
        "print(\"lista = \", lista,\"\\n\\nlista1 = \", lista1)"
      ],
      "metadata": {
        "colab": {
          "base_uri": "https://localhost:8080/"
        },
        "id": "KbepttzFLpdP",
        "outputId": "4e707d2d-6649-49d5-9235-ac8185305bc5"
      },
      "execution_count": 9,
      "outputs": [
        {
          "output_type": "stream",
          "name": "stdout",
          "text": [
            "lista =  [1, 2, 3, 4, 5, 6] \n",
            "\n",
            "lista1 =  [1, 3, 5]\n"
          ]
        }
      ]
    },
    {
      "cell_type": "code",
      "source": [
        "exercicio = lambda nome, idade: f\"{nome} possui {idade} anos.\"\n",
        "nome = input(\"Digite seu nome: \")\n",
        "idade = input(\"Digite sua idade: \")\n",
        "idade = int(idade)\n",
        "mensagem = exercicio(nome, idade)\n",
        "print(mensagem)"
      ],
      "metadata": {
        "colab": {
          "base_uri": "https://localhost:8080/"
        },
        "id": "0_RD1m9EVHcc",
        "outputId": "491536c9-f823-4c35-a244-5afeed79766c"
      },
      "execution_count": 10,
      "outputs": [
        {
          "output_type": "stream",
          "name": "stdout",
          "text": [
            "Digite seu nome: Sarah\n",
            "Digite sua idade: 17\n",
            "Sarah possui 17 anos.\n"
          ]
        }
      ]
    },
    {
      "cell_type": "code",
      "source": [
        "def pares(numero):\n",
        "    return numero % 2 == 0\n",
        "numeros = []\n",
        "for i in range(10):\n",
        "    numero = int(input(f\"Digite o {i+1}º número: \"))\n",
        "    numeros.append(numero)\n",
        "numeros_pares = list(filter(pares, numeros))\n",
        "numeros_impares = list(filter(lambda x: not pares(x), numeros))\n",
        "print(\"Números pares:\")\n",
        "for numero in numeros_pares:\n",
        "    print(numero)\n",
        "print(\"Números ímpares:\")\n",
        "for numero in numeros_impares:\n",
        "    print(numero)"
      ],
      "metadata": {
        "colab": {
          "base_uri": "https://localhost:8080/"
        },
        "id": "QiQSLpYFV9LQ",
        "outputId": "9d06ffc9-3b36-447e-9f24-7e4e32f32c64"
      },
      "execution_count": 11,
      "outputs": [
        {
          "output_type": "stream",
          "name": "stdout",
          "text": [
            "Digite o 1º número: 12\n",
            "Digite o 2º número: 16\n",
            "Digite o 3º número: 25\n",
            "Digite o 4º número: 67\n",
            "Digite o 5º número: 34\n",
            "Digite o 6º número: 98\n",
            "Digite o 7º número: 16\n",
            "Digite o 8º número: 87\n",
            "Digite o 9º número: 453\n",
            "Digite o 10º número: 97\n",
            "Números pares:\n",
            "12\n",
            "16\n",
            "34\n",
            "98\n",
            "16\n",
            "Números ímpares:\n",
            "25\n",
            "67\n",
            "87\n",
            "453\n",
            "97\n"
          ]
        }
      ]
    },
    {
      "cell_type": "code",
      "source": [
        "def eh_primo(numero):\n",
        "    if numero <= 1:\n",
        "        return False\n",
        "    elif numero == 2:\n",
        "        return True\n",
        "    elif numero % 2 == 0:\n",
        "        return False\n",
        "    else:\n",
        "        limite = int(numero ** 0.5) + 1\n",
        "        for i in range(3, limite, 2):\n",
        "            if numero % i == 0:\n",
        "                return False\n",
        "        return True\n",
        "def imprimir_primos_entre_1_e_500():\n",
        "    for numero in range(1, 501):\n",
        "        if eh_primo(numero):\n",
        "            print(numero)\n",
        "imprimir_primos_entre_1_e_500()"
      ],
      "metadata": {
        "colab": {
          "base_uri": "https://localhost:8080/"
        },
        "id": "1hsSkkfSWJlH",
        "outputId": "1ec0fc97-7878-4a0f-f0f7-3a639d0b9655"
      },
      "execution_count": 12,
      "outputs": [
        {
          "output_type": "stream",
          "name": "stdout",
          "text": [
            "2\n",
            "3\n",
            "5\n",
            "7\n",
            "11\n",
            "13\n",
            "17\n",
            "19\n",
            "23\n",
            "29\n",
            "31\n",
            "37\n",
            "41\n",
            "43\n",
            "47\n",
            "53\n",
            "59\n",
            "61\n",
            "67\n",
            "71\n",
            "73\n",
            "79\n",
            "83\n",
            "89\n",
            "97\n",
            "101\n",
            "103\n",
            "107\n",
            "109\n",
            "113\n",
            "127\n",
            "131\n",
            "137\n",
            "139\n",
            "149\n",
            "151\n",
            "157\n",
            "163\n",
            "167\n",
            "173\n",
            "179\n",
            "181\n",
            "191\n",
            "193\n",
            "197\n",
            "199\n",
            "211\n",
            "223\n",
            "227\n",
            "229\n",
            "233\n",
            "239\n",
            "241\n",
            "251\n",
            "257\n",
            "263\n",
            "269\n",
            "271\n",
            "277\n",
            "281\n",
            "283\n",
            "293\n",
            "307\n",
            "311\n",
            "313\n",
            "317\n",
            "331\n",
            "337\n",
            "347\n",
            "349\n",
            "353\n",
            "359\n",
            "367\n",
            "373\n",
            "379\n",
            "383\n",
            "389\n",
            "397\n",
            "401\n",
            "409\n",
            "419\n",
            "421\n",
            "431\n",
            "433\n",
            "439\n",
            "443\n",
            "449\n",
            "457\n",
            "461\n",
            "463\n",
            "467\n",
            "479\n",
            "487\n",
            "491\n",
            "499\n"
          ]
        }
      ]
    },
    {
      "cell_type": "code",
      "source": [
        "import random\n",
        "\n",
        "def jogar_craps():\n",
        "    input(\"Pressione Enter para lançar os dados...\")\n",
        "    dado1 = random.randint(1, 6)\n",
        "    dado2 = random.randint(1, 6)\n",
        "    soma_dados = dado1 + dado2\n",
        "\n",
        "    print(f\"Você lançou os dados: {dado1} + {dado2} = {soma_dados}\")\n",
        "\n",
        "    if soma_dados == 7 or soma_dados == 11:\n",
        "        print(\"Você tirou um natural! Você ganhou!\")\n",
        "    elif soma_dados == 2 or soma_dados == 3 or soma_dados == 12:\n",
        "        print(\"Você tirou um craps! Você perdeu.\")\n",
        "    else:\n",
        "        print(f\"Seu Ponto é {soma_dados}. Continue jogando para tirar este número novamente.\")\n",
        "\n",
        "        while True:\n",
        "            input(\"Pressione Enter para lançar os dados novamente...\")\n",
        "            dado1 = random.randint(1, 6)\n",
        "            dado2 = random.randint(1, 6)\n",
        "            nova_soma = dado1 + dado2\n",
        "            print(f\"Você lançou os dados: {dado1} + {dado2} = {nova_soma}\")\n",
        "\n",
        "            if nova_soma == soma_dados:\n",
        "                print(\"Você tirou seu Ponto novamente! Você ganhou!\")\n",
        "                break\n",
        "            elif nova_soma == 7:\n",
        "                print(\"Você tirou um 7! Você perdeu.\")\n",
        "                break\n",
        "\n",
        "if __name__ == \"__main__\":\n",
        "    print(\"Bem-vindo ao jogo de Craps!\")\n",
        "    while True:\n",
        "        jogar_craps()\n",
        "        jogar_novamente = input(\"Deseja jogar novamente? (S/N): \")\n",
        "        if jogar_novamente.lower() != \"s\":\n",
        "            print(\"Obrigado por jogar! Adeus!\")\n",
        "            break"
      ],
      "metadata": {
        "colab": {
          "base_uri": "https://localhost:8080/"
        },
        "id": "yTQqQnfvWYIc",
        "outputId": "63102044-671c-4d81-ec77-80de81c846b6"
      },
      "execution_count": 13,
      "outputs": [
        {
          "output_type": "stream",
          "name": "stdout",
          "text": [
            "Bem-vindo ao jogo de Craps!\n",
            "Pressione Enter para lançar os dados...\n",
            "Você lançou os dados: 5 + 3 = 8\n",
            "Seu Ponto é 8. Continue jogando para tirar este número novamente.\n",
            "Pressione Enter para lançar os dados novamente...\n",
            "Você lançou os dados: 1 + 2 = 3\n",
            "Pressione Enter para lançar os dados novamente...\n",
            "Você lançou os dados: 4 + 6 = 10\n",
            "Pressione Enter para lançar os dados novamente...\n",
            "Você lançou os dados: 4 + 5 = 9\n",
            "Pressione Enter para lançar os dados novamente...\n",
            "Você lançou os dados: 5 + 6 = 11\n",
            "Pressione Enter para lançar os dados novamente...\n",
            "Você lançou os dados: 3 + 2 = 5\n",
            "Pressione Enter para lançar os dados novamente...\n",
            "Você lançou os dados: 5 + 2 = 7\n",
            "Você tirou um 7! Você perdeu.\n",
            "Deseja jogar novamente? (S/N): n\n",
            "Obrigado por jogar! Adeus!\n"
          ]
        }
      ]
    }
  ]
}